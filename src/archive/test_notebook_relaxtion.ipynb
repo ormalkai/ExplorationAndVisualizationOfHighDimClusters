{
 "cells": [
  {
   "cell_type": "code",
   "execution_count": 1,
   "metadata": {
    "ExecuteTime": {
     "end_time": "2020-02-18T13:27:50.820581Z",
     "start_time": "2020-02-18T13:27:43.186275Z"
    }
   },
   "outputs": [],
   "source": [
    "import pandas as pd\n",
    "import numpy as np\n",
    "from ClusterPlot import ClusterPlot\n",
    "from DataSetFactory import DataSetFactory\n",
    "import plotly.graph_objects as go\n",
    "import plotly.express as px\n",
    "import seaborn as sns\n",
    "import matplotlib.pyplot as plt"
   ]
  },
  {
   "cell_type": "code",
   "execution_count": 2,
   "metadata": {
    "ExecuteTime": {
     "end_time": "2020-02-18T13:27:50.830491Z",
     "start_time": "2020-02-18T13:27:50.823511Z"
    }
   },
   "outputs": [],
   "source": [
    "def vis_2d(_df, _x, _y, _color, _algo):\n",
    "    fig = px.scatter(_df, x=_x, y=_y, color=_color)\n",
    "    fig.update_layout(title=f'{_algo}: 2D Visualization')\n",
    "    fig.show()"
   ]
  },
  {
   "cell_type": "code",
   "execution_count": 3,
   "metadata": {
    "ExecuteTime": {
     "end_time": "2020-02-18T13:28:22.493679Z",
     "start_time": "2020-02-18T13:27:50.834481Z"
    }
   },
   "outputs": [],
   "source": [
    "# ds = DataSetFactory.get_dataset('fists_no_overlap')\n",
    "# ds = DataSetFactory.get_dataset('cross')\n",
    "ds = DataSetFactory.get_dataset('MNIST')"
   ]
  },
  {
   "cell_type": "code",
   "execution_count": null,
   "metadata": {
    "ExecuteTime": {
     "start_time": "2020-02-18T13:30:05.674Z"
    }
   },
   "outputs": [
    {
     "name": "stdout",
     "output_type": "stream",
     "text": [
      "finding intra class anchors using mean_shift\n",
      "Number of intra_class anchors (centroids) is 4\n",
      "Bandwidth label: 0 = 7.255927816114452\n"
     ]
    }
   ],
   "source": [
    "amap = ClusterPlot(verbose=True, n_intra_anchors=4, k=15, dim_reduction_algo='mds', anchors_method='mean_shift', radius_q=0.5, n_jobs=4)\n",
    "low_dim = amap.fit_transform(ds.df[ds.feature_cols].values, ds.df[ds.label_col].values)"
   ]
  },
  {
   "cell_type": "code",
   "execution_count": null,
   "metadata": {
    "ExecuteTime": {
     "start_time": "2020-02-18T13:30:08.734Z"
    }
   },
   "outputs": [],
   "source": [
    "dfs = []\n",
    "for anchor_index in range(len(amap.intra_class_anchors_labels)):\n",
    "    tmp_df = pd.DataFrame(amap.random_points_per_cluster(anchor_index), columns=['x','y'])\n",
    "    tmp_df['label'] = amap.anchor_to_label_cluster(anchor_index)[0]#anchor_index\n",
    "    dfs.append(tmp_df)\n",
    "tmp_df = pd.concat(dfs)\n",
    "# tmp_df['label'] = tmp_df['label'] + 10"
   ]
  },
  {
   "cell_type": "code",
   "execution_count": null,
   "metadata": {
    "ExecuteTime": {
     "start_time": "2020-02-18T13:30:09.470Z"
    }
   },
   "outputs": [],
   "source": [
    "df = pd.DataFrame(data=low_dim, columns=['x', 'y'])\n",
    "df['label'] = amap.intra_class_anchors_labels\n",
    "# df = pd.concat([df, tmp_df])  # Comment out if you want to display with random points\n",
    "vis_2d(df, 'x', 'y', 'label', '')"
   ]
  },
  {
   "cell_type": "code",
   "execution_count": null,
   "metadata": {
    "ExecuteTime": {
     "start_time": "2020-02-18T13:30:11.557Z"
    }
   },
   "outputs": [],
   "source": [
    "# Test Radius\n",
    "# amap.low_dim_anchors = amap.low_dim_anchors[0]\n",
    "x_plus_arr = amap.low_dim_anchors.copy()\n",
    "x_plus_arr[:, 0] = amap.low_dim_anchors[:, 0] + amap.anchors_radius\n",
    "x_minus_arr = amap.low_dim_anchors.copy()\n",
    "x_minus_arr[:, 0] = amap.low_dim_anchors[:, 0] - amap.anchors_radius\n",
    "y_plus_arr = amap.low_dim_anchors.copy()\n",
    "y_plus_arr[:, 1] = amap.low_dim_anchors[:, 1] + amap.anchors_radius\n",
    "y_minus_arr = amap.low_dim_anchors.copy()\n",
    "y_minus_arr[:, 1] = amap.low_dim_anchors[:, 1] - amap.anchors_radius\n",
    "if amap.n_components > 2:\n",
    "    z_plus_arr = amap.low_dim_anchors.copy()\n",
    "    z_plus_arr[:, 2] = amap.low_dim_anchors[:, 2] + amap.anchors_radius\n",
    "    z_minus_arr = amap.low_dim_anchors.copy()\n",
    "    z_minus_arr[:, 2] = amap.low_dim_anchors[:, 2] - amap.anchors_radius\n",
    "anchors_radius = np.concatenate([x_plus_arr, x_minus_arr, y_plus_arr, y_minus_arr])\n",
    "if amap.n_components > 2:\n",
    "    anchors_radius = np.concatenate([anchors_radius, z_plus_arr, z_minus_arr])\n",
    "n_points_per_anchor = amap.n_components * 2\n",
    "labels = []\n",
    "for i in range(n_points_per_anchor):\n",
    "    labels.extend(amap.intra_class_anchors_labels)\n",
    "    \n",
    "anchors_df = pd.DataFrame(anchors_radius, columns = ['x', 'y', 'z'] if amap.n_components > 2 else ['x', 'y'])\n",
    "anchors_df['label'] = labels\n",
    "# anchors_df['label'] = anchors_df['label'].apply(lambda x: 10 if x==1 else 20)\n",
    "# df['label'] = df['label'].apply(lambda x: 30 if x==1 else 40)\n",
    "df = pd.concat([df, anchors_df])\n",
    "vis_2d(df, 'x', 'y', 'label', '')\n",
    "\n",
    "# dfs = []\n",
    "# n_points_per_anchor = len(amap.intra_class_anchors_labels) * amap.n_compenents * 2\n",
    "# data = np.zeros((n_points_per_anchor, amap.n_components))\n",
    "# for anchor_index in range(len(amap.intra_class_anchors_labels)):\n",
    "#     minx = amap.low_dim_anchors[anchor_index][0] - amap.anchors_radius[anchor_index]\n",
    "#     maxx = amap.low_dim_anchors[anchor_index][0] + amap.anchors_radius[anchor_index]\n",
    "#     miny = amap.low_dim_anchors[anchor_index][1] - amap.anchors_radius[anchor_index]\n",
    "#     maxy = amap.low_dim_anchors[anchor_index][1] + amap.anchors_radius[anchor_index]\n",
    "#     if self.n_components > 2:\n",
    "#         minz = amap.low_dim_anchors[anchor_index][2] - amap.anchors_radius[anchor_index]\n",
    "#         maxz = amap.low_dim_anchors[anchor_index][2] + amap.anchors_radius[anchor_index]\n",
    "#     data[anchor_index*n_points_per_anchor][0] = minx\n",
    "#     data[anchor_index*n_points_per_anchor][1] = maxx\n",
    "    \n",
    "# tmp_df = pd.DataFrame(amap.random_points_per_cluster(anchor_index), columns=['x','y'])\n",
    "# tmp_df['label'] = amap.anchor_to_label_cluster(anchor_index)[0]#anchor_index\n",
    "# dfs.append(tmp_df)\n",
    "# tmp_df = pd.concat(dfs)\n",
    "# tmp_df['label'] = tmp_df['label'] + 10"
   ]
  },
  {
   "cell_type": "code",
   "execution_count": null,
   "metadata": {
    "ExecuteTime": {
     "start_time": "2020-02-18T13:30:13.037Z"
    }
   },
   "outputs": [],
   "source": [
    "amap.anchors_plot(alpha=0.3)"
   ]
  },
  {
   "cell_type": "code",
   "execution_count": null,
   "metadata": {
    "ExecuteTime": {
     "end_time": "2020-02-18T13:28:23.222389Z",
     "start_time": "2020-02-18T13:27:43.232Z"
    },
    "scrolled": false
   },
   "outputs": [],
   "source": [
    "_, ax = plt.subplots(figsize=(10,10))\n",
    "sns.heatmap(amap.inter_class_relations, ax=ax, annot=True, square=True, \n",
    "            xticklabels=[str(amap.anchor_to_label_cluster(i)) for i in range(amap.inter_class_relations.shape[0])],\n",
    "            yticklabels=[str(amap.anchor_to_label_cluster(i)) for i in range(amap.inter_class_relations.shape[0])])"
   ]
  },
  {
   "cell_type": "code",
   "execution_count": null,
   "metadata": {
    "ExecuteTime": {
     "end_time": "2020-02-18T13:28:23.224384Z",
     "start_time": "2020-02-18T13:27:43.235Z"
    }
   },
   "outputs": [],
   "source": [
    "amap.inter_class_relations_low_dim"
   ]
  },
  {
   "cell_type": "code",
   "execution_count": null,
   "metadata": {
    "ExecuteTime": {
     "end_time": "2020-02-18T13:28:23.227375Z",
     "start_time": "2020-02-18T13:27:43.238Z"
    }
   },
   "outputs": [],
   "source": [
    "_, ax = plt.subplots(figsize=(10,10))\n",
    "sns.heatmap(amap.inter_class_relations_low_dim, ax=ax, annot=True, square=True, \n",
    "            xticklabels=[str(amap.anchor_to_label_cluster(i)) for i in range(amap.inter_class_relations.shape[0])],\n",
    "            yticklabels=[str(amap.anchor_to_label_cluster(i)) for i in range(amap.inter_class_relations.shape[0])])"
   ]
  },
  {
   "cell_type": "code",
   "execution_count": null,
   "metadata": {
    "ExecuteTime": {
     "end_time": "2020-02-18T13:28:23.229370Z",
     "start_time": "2020-02-18T13:27:43.241Z"
    }
   },
   "outputs": [],
   "source": [
    "labels"
   ]
  },
  {
   "cell_type": "code",
   "execution_count": null,
   "metadata": {
    "ExecuteTime": {
     "end_time": "2020-02-18T13:28:23.231365Z",
     "start_time": "2020-02-18T13:27:43.244Z"
    }
   },
   "outputs": [],
   "source": [
    "len(labels)"
   ]
  },
  {
   "cell_type": "code",
   "execution_count": null,
   "metadata": {
    "ExecuteTime": {
     "end_time": "2020-02-18T13:28:23.233362Z",
     "start_time": "2020-02-18T13:27:43.247Z"
    }
   },
   "outputs": [],
   "source": [
    "amap.intra_class_anchors_labels"
   ]
  },
  {
   "cell_type": "code",
   "execution_count": null,
   "metadata": {
    "ExecuteTime": {
     "end_time": "2020-02-18T13:28:23.237349Z",
     "start_time": "2020-02-18T13:27:43.250Z"
    }
   },
   "outputs": [],
   "source": [
    "len(amap.intra_class_anchors_labels)"
   ]
  },
  {
   "cell_type": "code",
   "execution_count": null,
   "metadata": {},
   "outputs": [],
   "source": []
  }
 ],
 "metadata": {
  "kernelspec": {
   "display_name": "Python 3",
   "language": "python",
   "name": "python3"
  },
  "language_info": {
   "codemirror_mode": {
    "name": "ipython",
    "version": 3
   },
   "file_extension": ".py",
   "mimetype": "text/x-python",
   "name": "python",
   "nbconvert_exporter": "python",
   "pygments_lexer": "ipython3",
   "version": "3.7.4"
  },
  "toc": {
   "base_numbering": 1,
   "nav_menu": {},
   "number_sections": true,
   "sideBar": true,
   "skip_h1_title": false,
   "title_cell": "Table of Contents",
   "title_sidebar": "Contents",
   "toc_cell": false,
   "toc_position": {},
   "toc_section_display": true,
   "toc_window_display": false
  }
 },
 "nbformat": 4,
 "nbformat_minor": 2
}
