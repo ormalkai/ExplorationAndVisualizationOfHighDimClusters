{
 "cells": [
  {
   "cell_type": "code",
   "execution_count": 1,
   "metadata": {
    "ExecuteTime": {
     "end_time": "2020-03-22T10:17:34.144459Z",
     "start_time": "2020-03-22T10:17:26.747062Z"
    }
   },
   "outputs": [],
   "source": [
    "import pandas as pd\n",
    "import numpy as np\n",
    "import seaborn as sns\n",
    "import matplotlib.pyplot as plt\n",
    "\n",
    "from DataSetFactory import DataSetFactory\n",
    "from AMAP import AMAP"
   ]
  },
  {
   "cell_type": "code",
   "execution_count": 2,
   "metadata": {
    "ExecuteTime": {
     "end_time": "2020-03-22T10:17:34.154432Z",
     "start_time": "2020-03-22T10:17:34.148451Z"
    }
   },
   "outputs": [],
   "source": [
    "RANDOM_STATE = 42"
   ]
  },
  {
   "cell_type": "code",
   "execution_count": 5,
   "metadata": {
    "ExecuteTime": {
     "end_time": "2020-03-22T10:21:44.286102Z",
     "start_time": "2020-03-22T10:19:25.658578Z"
    }
   },
   "outputs": [],
   "source": [
    "ds = DataSetFactory.get_dataset('FashionMNIST', random_state=RANDOM_STATE, is_subset=False, sample=None)"
   ]
  },
  {
   "cell_type": "code",
   "execution_count": 18,
   "metadata": {
    "ExecuteTime": {
     "end_time": "2020-03-22T17:17:17.750559Z",
     "start_time": "2020-03-22T10:31:45.925062Z"
    }
   },
   "outputs": [
    {
     "name": "stderr",
     "output_type": "stream",
     "text": [
      "\n",
      "KeyboardInterrupt\n",
      "\n"
     ]
    }
   ],
   "source": [
    "files_list = []\n",
    "for i in range(len(ds.df)):\n",
    "    im = ds.df[ds.feature_cols].iloc[i].values.reshape(28, 28)\n",
    "#     plt.imshow(im, cmap='gray')\n",
    "    label = ds.class_to_label[ds.df[ds.label_col].iloc[i]].replace('/', '_or_')\n",
    "    file_name = f'../data/FashionMNIST/images/label_{label}_image_{i}.png'\n",
    "    plt.imsave(file_name, im, cmap='gray')\n",
    "    files_list.append(file_name)"
   ]
  },
  {
   "cell_type": "code",
   "execution_count": 12,
   "metadata": {
    "ExecuteTime": {
     "end_time": "2020-03-22T10:27:16.529932Z",
     "start_time": "2020-03-22T10:27:16.520962Z"
    }
   },
   "outputs": [
    {
     "data": {
      "text/plain": [
       "2"
      ]
     },
     "execution_count": 12,
     "metadata": {},
     "output_type": "execute_result"
    }
   ],
   "source": [
    "ds.df[ds.label_col].iloc[0]"
   ]
  },
  {
   "cell_type": "code",
   "execution_count": null,
   "metadata": {},
   "outputs": [],
   "source": []
  }
 ],
 "metadata": {
  "kernelspec": {
   "display_name": "Python 3",
   "language": "python",
   "name": "python3"
  },
  "language_info": {
   "codemirror_mode": {
    "name": "ipython",
    "version": 3
   },
   "file_extension": ".py",
   "mimetype": "text/x-python",
   "name": "python",
   "nbconvert_exporter": "python",
   "pygments_lexer": "ipython3",
   "version": "3.7.4"
  },
  "toc": {
   "base_numbering": 1,
   "nav_menu": {},
   "number_sections": true,
   "sideBar": true,
   "skip_h1_title": false,
   "title_cell": "Table of Contents",
   "title_sidebar": "Contents",
   "toc_cell": false,
   "toc_position": {},
   "toc_section_display": true,
   "toc_window_display": false
  }
 },
 "nbformat": 4,
 "nbformat_minor": 2
}
